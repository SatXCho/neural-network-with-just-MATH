{
 "cells": [
  {
   "cell_type": "code",
   "execution_count": 136,
   "metadata": {},
   "outputs": [],
   "source": [
    "import numpy as np\n",
    "import pandas as pd\n",
    "import matplotlib.pyplot as plt"
   ]
  },
  {
   "cell_type": "code",
   "execution_count": 137,
   "metadata": {},
   "outputs": [],
   "source": [
    "data_train = pd.read_csv('EMNIST_CSV/emnist-balanced-train.csv')\n",
    "data_test = pd.read_csv('EMNIST_CSV/emnist-balanced-test.csv')\n"
   ]
  },
  {
   "cell_type": "code",
   "execution_count": 138,
   "metadata": {},
   "outputs": [],
   "source": [
    "def rotate(row):\n",
    "    image = np.array(row).reshape([28, 28])\n",
    "    image = np.fliplr(image)\n",
    "    image = np.rot90(image)\n",
    "    return pd.Series(image.reshape([28 * 28]))\n",
    "\n",
    "data_train.iloc[:, 1:] = data_train.iloc[:, 1:].apply(rotate, axis=1, result_type='expand')\n",
    "data_test.iloc[:, 1:] = data_test.iloc[:, 1:].apply(rotate, axis=1, result_type='expand')\n",
    "\n",
    "\n",
    "data_t = np.array(data_train)\n",
    "data_d = np.array(data_test)\n",
    "m, n = data_t.shape\n",
    "np.random.shuffle(data_t)\n",
    "\n",
    "data_dev = data_d.T\n",
    "Y_dev = data_dev[0]\n",
    "X_dev = data_dev[1:n]\n",
    "X_dev = X_dev / 255.\n",
    "\n",
    "data_train = data_t.T\n",
    "Y_train = data_train[0]\n",
    "X_train = data_train[1:n]\n",
    "X_train = X_train / 255.\n",
    "_,m_train = X_train.shape\n",
    "\n",
    "NUM_CLASSES = 62  "
   ]
  },
  {
   "cell_type": "code",
   "execution_count": 139,
   "metadata": {},
   "outputs": [
    {
     "name": "stdout",
     "output_type": "stream",
     "text": [
      "(784, 697931)\n"
     ]
    }
   ],
   "source": [
    "print(X_train.shape)\n"
   ]
  },
  {
   "cell_type": "code",
   "execution_count": 140,
   "metadata": {},
   "outputs": [],
   "source": [
    "def init_params():\n",
    "    W1 = np.random.rand(NUM_CLASSES, 784) - 0.5\n",
    "    b1 = np.random.rand(NUM_CLASSES, 1) - 0.5\n",
    "    W2 = np.random.rand(NUM_CLASSES, NUM_CLASSES) - 0.5\n",
    "    b2 = np.random.rand(NUM_CLASSES, 1) - 0.5\n",
    "    return W1, b1, W2, b2\n",
    "\n",
    "def ReLU(Z):\n",
    "    return np.maximum(Z, 0)\n",
    "\n",
    "def softmax(Z):\n",
    "    A = np.exp(Z) / sum(np.exp(Z))\n",
    "    return A\n",
    "    \n",
    "def forward_prop(W1, b1, W2, b2, X):\n",
    "    Z1 = W1.dot(X) + b1\n",
    "    A1 = ReLU(Z1)\n",
    "    Z2 = W2.dot(A1) + b2\n",
    "    A2 = softmax(Z2)\n",
    "    return Z1, A1, Z2, A2\n",
    "\n",
    "def ReLU_deriv(Z):\n",
    "    return Z > 0\n",
    "\n",
    "def hot_encoding(Y):\n",
    "    one_hot_Y = np.zeros((Y.size, NUM_CLASSES))\n",
    "    one_hot_Y[np.arange(Y.size), Y.astype(int)] = 1\n",
    "    one_hot_Y = one_hot_Y.T\n",
    "    return one_hot_Y\n",
    "\n",
    "def backward_prop(Z1, A1, Z2, A2, W1, W2, X, Y):\n",
    "    one_hot_Y = hot_encoding(Y)\n",
    "    dZ2 = A2 - one_hot_Y\n",
    "    dW2 = 1 / m * dZ2.dot(A1.T)\n",
    "    db2 = 1 / m * np.sum(dZ2)\n",
    "    dZ1 = W2.T.dot(dZ2) * ReLU_deriv(Z1)\n",
    "    dW1 = 1 / m * dZ1.dot(X.T)\n",
    "    db1 = 1 / m * np.sum(dZ1)\n",
    "    return dW1, db1, dW2, db2\n",
    "\n",
    "def update_params(W1, b1, W2, b2, dW1, db1, dW2, db2, alpha):\n",
    "    W1 = W1 - alpha * dW1\n",
    "    b1 = b1 - alpha * db1    \n",
    "    W2 = W2 - alpha * dW2  \n",
    "    b2 = b2 - alpha * db2    \n",
    "    return W1, b1, W2, b2"
   ]
  },
  {
   "cell_type": "code",
   "execution_count": 141,
   "metadata": {},
   "outputs": [],
   "source": [
    "def get_predictions(A2):\n",
    "    return np.argmax(A2, 0)\n",
    "\n",
    "def get_accuracy(predictions, Y):\n",
    "    print(predictions, Y)\n",
    "    return np.sum(predictions == Y) / Y.size\n",
    "\n",
    "def gradient_descent(X, Y, alpha, iterations):\n",
    "    W1, b1, W2, b2 = init_params()\n",
    "    for i in range(iterations):\n",
    "        Z1, A1, Z2, A2 = forward_prop(W1, b1, W2, b2, X)\n",
    "        dW1, db1, dW2, db2 = backward_prop(Z1, A1, Z2, A2, W1, W2, X, Y)\n",
    "        W1, b1, W2, b2 = update_params(W1, b1, W2, b2, dW1, db1, dW2, db2, alpha)\n",
    "        if i % 10 == 0:\n",
    "            print(\"Iteration: \", i)\n",
    "            predictions = get_predictions(A2)\n",
    "            print(get_accuracy(predictions, Y))\n",
    "    return W1, b1, W2, b2"
   ]
  },
  {
   "cell_type": "code",
   "execution_count": 142,
   "metadata": {},
   "outputs": [
    {
     "name": "stdout",
     "output_type": "stream",
     "text": [
      "Iteration:  0\n",
      "[46 58  4 ... 50 61 52] [40  7 47 ... 25  1  6]\n",
      "0.03665548600076512\n",
      "Iteration:  10\n",
      "[10  7 16 ... 47  1 49] [40  7 47 ... 25  1  6]\n",
      "0.09107204007272925\n",
      "Iteration:  20\n",
      "[40  7 16 ... 47  1 49] [40  7 47 ... 25  1  6]\n",
      "0.14021443380506096\n",
      "Iteration:  30\n",
      "[40  7 16 ... 47  1 49] [40  7 47 ... 25  1  6]\n",
      "0.18811458439301307\n",
      "Iteration:  40\n",
      "[40  7 16 ... 47  1 28] [40  7 47 ... 25  1  6]\n",
      "0.22986512993404792\n",
      "Iteration:  50\n",
      "[40  7 16 ... 47  1 28] [40  7 47 ... 25  1  6]\n",
      "0.2633326217061572\n",
      "Iteration:  60\n",
      "[40  7 16 ... 47  1 28] [40  7 47 ... 25  1  6]\n",
      "0.2913067337602141\n",
      "Iteration:  70\n",
      "[40  7 16 ... 47  1 28] [40  7 47 ... 25  1  6]\n",
      "0.3151557962033496\n",
      "Iteration:  80\n",
      "[40  7 16 ... 47  1 28] [40  7 47 ... 25  1  6]\n",
      "0.3356205699417278\n",
      "Iteration:  90\n",
      "[40  7 16 ... 47  1 28] [40  7 47 ... 25  1  6]\n",
      "0.3530793158636026\n",
      "Iteration:  100\n",
      "[40  7 16 ... 47  1 28] [40  7 47 ... 25  1  6]\n",
      "0.3679962632409221\n",
      "Iteration:  110\n",
      "[40  7 16 ... 47  1 28] [40  7 47 ... 25  1  6]\n",
      "0.38067086861022076\n",
      "Iteration:  120\n",
      "[40  7 16 ... 47  1 28] [40  7 47 ... 25  1  6]\n",
      "0.39171494030212156\n",
      "Iteration:  130\n",
      "[40  7 16 ... 47  1 28] [40  7 47 ... 25  1  6]\n",
      "0.4018821344803426\n",
      "Iteration:  140\n",
      "[40  7 16 ... 47  1 28] [40  7 47 ... 25  1  6]\n",
      "0.4108414728676617\n",
      "Iteration:  150\n",
      "[40  7 18 ...  0  1 28] [40  7 47 ... 25  1  6]\n",
      "0.4189640523203583\n",
      "Iteration:  160\n",
      "[40  7 18 ...  0  1 28] [40  7 47 ... 25  1  6]\n",
      "0.42659231356681393\n",
      "Iteration:  170\n",
      "[40  7 18 ...  0  1 28] [40  7 47 ... 25  1  6]\n",
      "0.43382368744188177\n",
      "Iteration:  180\n",
      "[40  7 18 ...  0  1 28] [40  7 47 ... 25  1  6]\n",
      "0.4403314940875244\n",
      "Iteration:  190\n",
      "[40  7 18 ...  0  1 28] [40  7 47 ... 25  1  6]\n",
      "0.4468092117988741\n",
      "Iteration:  200\n",
      "[40  7 18 ...  0  1 28] [40  7 47 ... 25  1  6]\n",
      "0.45279834252956236\n",
      "Iteration:  210\n",
      "[40  7 18 ...  0  1 28] [40  7 47 ... 25  1  6]\n",
      "0.45849804636848057\n",
      "Iteration:  220\n",
      "[40  7 18 ...  0  1  6] [40  7 47 ... 25  1  6]\n",
      "0.4640702304382525\n",
      "Iteration:  230\n",
      "[40  7 18 ...  0  1  6] [40  7 47 ... 25  1  6]\n",
      "0.4695249243836425\n",
      "Iteration:  240\n",
      "[40  7 18 ...  0  1  6] [40  7 47 ... 25  1  6]\n",
      "0.4745870293768295\n",
      "Iteration:  250\n",
      "[40  7 18 ...  0  1  6] [40  7 47 ... 25  1  6]\n",
      "0.4795531363415581\n",
      "Iteration:  260\n",
      "[40  7 18 ...  0  1  6] [40  7 47 ... 25  1  6]\n",
      "0.48427566621915347\n",
      "Iteration:  270\n",
      "[40  7 18 ...  0  1  6] [40  7 47 ... 25  1  6]\n",
      "0.48886207948923316\n",
      "Iteration:  280\n",
      "[40  7 18 ...  0  1  6] [40  7 47 ... 25  1  6]\n",
      "0.49321781092973377\n",
      "Iteration:  290\n",
      "[40  7 18 ...  0  1  6] [40  7 47 ... 25  1  6]\n",
      "0.4974832755673555\n",
      "Iteration:  300\n",
      "[40  7 18 ...  0  1  6] [40  7 47 ... 25  1  6]\n",
      "0.5016813983044169\n",
      "Iteration:  310\n",
      "[40  7 18 ...  0  1  6] [40  7 47 ... 25  1  6]\n",
      "0.5055771988921541\n",
      "Iteration:  320\n",
      "[40  7 18 ...  0  1  6] [40  7 47 ... 25  1  6]\n",
      "0.5093770014514328\n",
      "Iteration:  330\n",
      "[40  7 18 ...  0  1  6] [40  7 47 ... 25  1  6]\n",
      "0.5130349561776164\n",
      "Iteration:  340\n",
      "[40  7 18 ...  0  1  6] [40  7 47 ... 25  1  6]\n",
      "0.5166599563567172\n",
      "Iteration:  350\n",
      "[40  7 18 ... 15  1  6] [40  7 47 ... 25  1  6]\n",
      "0.5200900948661114\n",
      "Iteration:  360\n",
      "[40  7 18 ... 15  1  6] [40  7 47 ... 25  1  6]\n",
      "0.5237050654004479\n"
     ]
    },
    {
     "ename": "KeyboardInterrupt",
     "evalue": "",
     "output_type": "error",
     "traceback": [
      "\u001b[1;31m---------------------------------------------------------------------------\u001b[0m",
      "\u001b[1;31mKeyboardInterrupt\u001b[0m                         Traceback (most recent call last)",
      "\u001b[1;32me:\\Scratch Neural\\net.ipynb Cell 7\u001b[0m line \u001b[0;36m1\n\u001b[1;32m----> <a href='vscode-notebook-cell:/e%3A/Scratch%20Neural/net.ipynb#W6sZmlsZQ%3D%3D?line=0'>1</a>\u001b[0m W1, b1, W2, b2 \u001b[39m=\u001b[39m gradient_descent(X_train, Y_train, \u001b[39m0.10\u001b[39;49m, \u001b[39m1000\u001b[39;49m)\n",
      "\u001b[1;32me:\\Scratch Neural\\net.ipynb Cell 7\u001b[0m line \u001b[0;36m1\n\u001b[0;32m     <a href='vscode-notebook-cell:/e%3A/Scratch%20Neural/net.ipynb#W6sZmlsZQ%3D%3D?line=9'>10</a>\u001b[0m \u001b[39mfor\u001b[39;00m i \u001b[39min\u001b[39;00m \u001b[39mrange\u001b[39m(iterations):\n\u001b[0;32m     <a href='vscode-notebook-cell:/e%3A/Scratch%20Neural/net.ipynb#W6sZmlsZQ%3D%3D?line=10'>11</a>\u001b[0m     Z1, A1, Z2, A2 \u001b[39m=\u001b[39m forward_prop(W1, b1, W2, b2, X)\n\u001b[1;32m---> <a href='vscode-notebook-cell:/e%3A/Scratch%20Neural/net.ipynb#W6sZmlsZQ%3D%3D?line=11'>12</a>\u001b[0m     dW1, db1, dW2, db2 \u001b[39m=\u001b[39m backward_prop(Z1, A1, Z2, A2, W1, W2, X, Y)\n\u001b[0;32m     <a href='vscode-notebook-cell:/e%3A/Scratch%20Neural/net.ipynb#W6sZmlsZQ%3D%3D?line=12'>13</a>\u001b[0m     W1, b1, W2, b2 \u001b[39m=\u001b[39m update_params(W1, b1, W2, b2, dW1, db1, dW2, db2, alpha)\n\u001b[0;32m     <a href='vscode-notebook-cell:/e%3A/Scratch%20Neural/net.ipynb#W6sZmlsZQ%3D%3D?line=13'>14</a>\u001b[0m     \u001b[39mif\u001b[39;00m i \u001b[39m%\u001b[39m \u001b[39m10\u001b[39m \u001b[39m==\u001b[39m \u001b[39m0\u001b[39m:\n",
      "\u001b[1;32me:\\Scratch Neural\\net.ipynb Cell 7\u001b[0m line \u001b[0;36m3\n\u001b[0;32m     <a href='vscode-notebook-cell:/e%3A/Scratch%20Neural/net.ipynb#W6sZmlsZQ%3D%3D?line=31'>32</a>\u001b[0m one_hot_Y \u001b[39m=\u001b[39m hot_encoding(Y)\n\u001b[0;32m     <a href='vscode-notebook-cell:/e%3A/Scratch%20Neural/net.ipynb#W6sZmlsZQ%3D%3D?line=32'>33</a>\u001b[0m dZ2 \u001b[39m=\u001b[39m A2 \u001b[39m-\u001b[39m one_hot_Y\n\u001b[1;32m---> <a href='vscode-notebook-cell:/e%3A/Scratch%20Neural/net.ipynb#W6sZmlsZQ%3D%3D?line=33'>34</a>\u001b[0m dW2 \u001b[39m=\u001b[39m \u001b[39m1\u001b[39m \u001b[39m/\u001b[39m m \u001b[39m*\u001b[39m dZ2\u001b[39m.\u001b[39mdot(A1\u001b[39m.\u001b[39mT)\n\u001b[0;32m     <a href='vscode-notebook-cell:/e%3A/Scratch%20Neural/net.ipynb#W6sZmlsZQ%3D%3D?line=34'>35</a>\u001b[0m db2 \u001b[39m=\u001b[39m \u001b[39m1\u001b[39m \u001b[39m/\u001b[39m m \u001b[39m*\u001b[39m np\u001b[39m.\u001b[39msum(dZ2)\n\u001b[0;32m     <a href='vscode-notebook-cell:/e%3A/Scratch%20Neural/net.ipynb#W6sZmlsZQ%3D%3D?line=35'>36</a>\u001b[0m dZ1 \u001b[39m=\u001b[39m W2\u001b[39m.\u001b[39mT\u001b[39m.\u001b[39mdot(dZ2) \u001b[39m*\u001b[39m ReLU_deriv(Z1)\n",
      "\u001b[1;31mKeyboardInterrupt\u001b[0m: "
     ]
    }
   ],
   "source": [
    "W1, b1, W2, b2 = gradient_descent(X_train, Y_train, 0.10, 1000)"
   ]
  },
  {
   "cell_type": "code",
   "execution_count": 143,
   "metadata": {},
   "outputs": [],
   "source": [
    "def make_predictions(X, W1, b1, W2, b2):\n",
    "    _, _, _, A2 = forward_prop(W1, b1, W2, b2, X)\n",
    "    predictions = get_predictions(A2)\n",
    "    return predictions\n",
    "\n",
    "label_map = [\"0\", \"1\", \"2\", \"3\", \"4\", \"5\", \"6\", \"7\", \"8\", \"9\", \n",
    "            \"A\", \"B\", \"C\", \"D\", \"E\", \"F\", \"G\", \"H\", \"I\", \"J\", \n",
    "            \"K\", \"L\", \"M\", \"N\", \"O\", \"P\", \"Q\", \"R\", \"S\", \"T\", \n",
    "            \"U\", \"V\", \"W\", \"X\", \"Y\", \"Z\", \n",
    "            \"a\", \"b\", \"c\", \"d\", \"e\", \"f\", \"g\", \"h\", \"i\", \"j\", \n",
    "            \"k\", \"l\", \"m\", \"n\", \"o\", \"p\", \"q\", \"r\", \"s\", \"t\", \n",
    "            \"u\", \"v\", \"w\", \"x\", \"y\", \"z\"]\n",
    "\n",
    "def test_prediction(index, W1, b1, W2, b2):\n",
    "    current_image = X_train[:, index, None]\n",
    "    prediction = make_predictions(X_train[:, index, None], W1, b1, W2, b2)\n",
    "    label = Y_train[index]\n",
    "    print(\"Prediction: \", label_map[prediction[0]], prediction)\n",
    "    print(\"Label: \", label)\n",
    "    \n",
    "    current_image = current_image.reshape((28, 28)) * 255\n",
    "    plt.gray()\n",
    "    plt.imshow(current_image, interpolation='nearest')\n",
    "    plt.show()"
   ]
  },
  {
   "cell_type": "code",
   "execution_count": 144,
   "metadata": {},
   "outputs": [],
   "source": [
    "from PIL import Image\n",
    "\n",
    "def test_custom_image(image_path, W1, b1, W2, b2):\n",
    "    image = Image.open(image_path).convert('L')  \n",
    "    image = image.resize((28, 28))\n",
    "    image_data = np.array(image) / 255.  \n",
    "\n",
    "    image_data = image_data.reshape(784, 1)\n",
    "   \n",
    "    prediction = make_predictions(image_data, W1, b1, W2, b2)\n",
    "    \n",
    "    print(\"Prediction: \", label_map[prediction[0]], prediction)\n",
    "    \n",
    "    plt.gray()\n",
    "    plt.imshow(image_data.reshape((28, 28)) * 255, interpolation='nearest')\n",
    "    plt.show()\n",
    "\n"
   ]
  },
  {
   "cell_type": "code",
   "execution_count": 168,
   "metadata": {},
   "outputs": [
    {
     "name": "stdout",
     "output_type": "stream",
     "text": [
      "Prediction:  N [23]\n",
      "Label:  23\n"
     ]
    },
    {
     "data": {
      "image/png": "[encoded data removed]",
      "text/plain": [
       "<Figure size 640x480 with 1 Axes>"
      ]
     },
     "metadata": {},
     "output_type": "display_data"
    }
   ],
   "source": [
    "# test_prediction(7, W1, b1, W2, b2)\n",
    "\n",
    "random_number = np.random.randint(0, m_train)\n",
    "test_prediction(random_number, W1, b1, W2, b2)"
   ]
  }
 ],
 "metadata": {
  "kernelspec": {
   "display_name": "Python 3",
   "language": "python",
   "name": "python3"
  },
  "language_info": {
   "codemirror_mode": {
    "name": "ipython",
    "version": 3
   },
   "file_extension": ".py",
   "mimetype": "text/x-python",
   "name": "python",
   "nbconvert_exporter": "python",
   "pygments_lexer": "ipython3",
   "version": "3.11.5"
  },
  "orig_nbformat": 4
 },
 "nbformat": 4,
 "nbformat_minor": 2
}
